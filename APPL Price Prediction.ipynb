{
  "nbformat": 4,
  "nbformat_minor": 0,
  "metadata": {
    "colab": {
      "name": "Untitled1.ipynb",
      "provenance": []
    },
    "kernelspec": {
      "name": "python3",
      "display_name": "Python 3"
    },
    "language_info": {
      "name": "python"
    }
  },
  "cells": [
    {
      "cell_type": "code",
      "metadata": {
        "id": "j1FM1sPOUtiT"
      },
      "source": [
        "import numpy as np\n",
        "import matplotlib.pyplot as plt\n",
        "import pandas as pd\n",
        "from sklearn.preprocessing import MinMaxScaler"
      ],
      "execution_count": 1,
      "outputs": []
    },
    {
      "cell_type": "code",
      "metadata": {
        "colab": {
          "base_uri": "https://localhost:8080/"
        },
        "id": "8UPcQmVkUyx_",
        "outputId": "45c5bb96-6cae-4b16-cc8d-a6d6d9e71945"
      },
      "source": [
        "!pip install yfinance\n",
        "import yfinance as yf\n",
        "\n",
        "df = yf.download('AAPL', \n",
        "                      start='2019-03-31', \n",
        "                      end='2021-03-31', \n",
        "                      progress=False,\n",
        "                      date_parser = True)"
      ],
      "execution_count": 2,
      "outputs": [
        {
          "output_type": "stream",
          "text": [
            "Collecting yfinance\n",
            "  Downloading https://files.pythonhosted.org/packages/a7/ee/315752b9ef281ba83c62aa7ec2e2074f85223da6e7e74efb4d3e11c0f510/yfinance-0.1.59.tar.gz\n",
            "Requirement already satisfied: pandas>=0.24 in /usr/local/lib/python3.7/dist-packages (from yfinance) (1.1.5)\n",
            "Requirement already satisfied: numpy>=1.15 in /usr/local/lib/python3.7/dist-packages (from yfinance) (1.19.5)\n",
            "Requirement already satisfied: requests>=2.20 in /usr/local/lib/python3.7/dist-packages (from yfinance) (2.23.0)\n",
            "Requirement already satisfied: multitasking>=0.0.7 in /usr/local/lib/python3.7/dist-packages (from yfinance) (0.0.9)\n",
            "Collecting lxml>=4.5.1\n",
            "\u001b[?25l  Downloading https://files.pythonhosted.org/packages/cf/4d/6537313bf58fe22b508f08cf3eb86b29b6f9edf68e00454224539421073b/lxml-4.6.3-cp37-cp37m-manylinux1_x86_64.whl (5.5MB)\n",
            "\u001b[K     |████████████████████████████████| 5.5MB 13.7MB/s \n",
            "\u001b[?25hRequirement already satisfied: python-dateutil>=2.7.3 in /usr/local/lib/python3.7/dist-packages (from pandas>=0.24->yfinance) (2.8.1)\n",
            "Requirement already satisfied: pytz>=2017.2 in /usr/local/lib/python3.7/dist-packages (from pandas>=0.24->yfinance) (2018.9)\n",
            "Requirement already satisfied: chardet<4,>=3.0.2 in /usr/local/lib/python3.7/dist-packages (from requests>=2.20->yfinance) (3.0.4)\n",
            "Requirement already satisfied: certifi>=2017.4.17 in /usr/local/lib/python3.7/dist-packages (from requests>=2.20->yfinance) (2020.12.5)\n",
            "Requirement already satisfied: urllib3!=1.25.0,!=1.25.1,<1.26,>=1.21.1 in /usr/local/lib/python3.7/dist-packages (from requests>=2.20->yfinance) (1.24.3)\n",
            "Requirement already satisfied: idna<3,>=2.5 in /usr/local/lib/python3.7/dist-packages (from requests>=2.20->yfinance) (2.10)\n",
            "Requirement already satisfied: six>=1.5 in /usr/local/lib/python3.7/dist-packages (from python-dateutil>=2.7.3->pandas>=0.24->yfinance) (1.15.0)\n",
            "Building wheels for collected packages: yfinance\n",
            "  Building wheel for yfinance (setup.py) ... \u001b[?25l\u001b[?25hdone\n",
            "  Created wheel for yfinance: filename=yfinance-0.1.59-py2.py3-none-any.whl size=23442 sha256=e36001a37b311d0b84fcc4aa43464a5abef341b64b580cb3aeadd15fe6a7532a\n",
            "  Stored in directory: /root/.cache/pip/wheels/f8/2a/0f/4b5a86e1d52e451757eb6bc17fd899629f0925c777741b6d04\n",
            "Successfully built yfinance\n",
            "Installing collected packages: lxml, yfinance\n",
            "  Found existing installation: lxml 4.2.6\n",
            "    Uninstalling lxml-4.2.6:\n",
            "      Successfully uninstalled lxml-4.2.6\n",
            "Successfully installed lxml-4.6.3 yfinance-0.1.59\n"
          ],
          "name": "stdout"
        }
      ]
    },
    {
      "cell_type": "code",
      "metadata": {
        "colab": {
          "base_uri": "https://localhost:8080/",
          "height": 233
        },
        "id": "oxN52a-XWK6e",
        "outputId": "918b4c57-dc40-4875-d27d-878d50216a6b"
      },
      "source": [
        "df.head()"
      ],
      "execution_count": 3,
      "outputs": [
        {
          "output_type": "execute_result",
          "data": {
            "text/html": [
              "<div>\n",
              "<style scoped>\n",
              "    .dataframe tbody tr th:only-of-type {\n",
              "        vertical-align: middle;\n",
              "    }\n",
              "\n",
              "    .dataframe tbody tr th {\n",
              "        vertical-align: top;\n",
              "    }\n",
              "\n",
              "    .dataframe thead th {\n",
              "        text-align: right;\n",
              "    }\n",
              "</style>\n",
              "<table border=\"1\" class=\"dataframe\">\n",
              "  <thead>\n",
              "    <tr style=\"text-align: right;\">\n",
              "      <th></th>\n",
              "      <th>Open</th>\n",
              "      <th>High</th>\n",
              "      <th>Low</th>\n",
              "      <th>Close</th>\n",
              "      <th>Adj Close</th>\n",
              "      <th>Volume</th>\n",
              "    </tr>\n",
              "    <tr>\n",
              "      <th>Date</th>\n",
              "      <th></th>\n",
              "      <th></th>\n",
              "      <th></th>\n",
              "      <th></th>\n",
              "      <th></th>\n",
              "      <th></th>\n",
              "    </tr>\n",
              "  </thead>\n",
              "  <tbody>\n",
              "    <tr>\n",
              "      <th>2019-04-01</th>\n",
              "      <td>47.910000</td>\n",
              "      <td>47.919998</td>\n",
              "      <td>47.095001</td>\n",
              "      <td>47.810001</td>\n",
              "      <td>46.829304</td>\n",
              "      <td>111448000</td>\n",
              "    </tr>\n",
              "    <tr>\n",
              "      <th>2019-04-02</th>\n",
              "      <td>47.772499</td>\n",
              "      <td>48.615002</td>\n",
              "      <td>47.762501</td>\n",
              "      <td>48.505001</td>\n",
              "      <td>47.510036</td>\n",
              "      <td>91062800</td>\n",
              "    </tr>\n",
              "    <tr>\n",
              "      <th>2019-04-03</th>\n",
              "      <td>48.312500</td>\n",
              "      <td>49.125000</td>\n",
              "      <td>48.287498</td>\n",
              "      <td>48.837502</td>\n",
              "      <td>47.835732</td>\n",
              "      <td>93087200</td>\n",
              "    </tr>\n",
              "    <tr>\n",
              "      <th>2019-04-04</th>\n",
              "      <td>48.697498</td>\n",
              "      <td>49.092499</td>\n",
              "      <td>48.285000</td>\n",
              "      <td>48.922501</td>\n",
              "      <td>47.918972</td>\n",
              "      <td>76457200</td>\n",
              "    </tr>\n",
              "    <tr>\n",
              "      <th>2019-04-05</th>\n",
              "      <td>49.112499</td>\n",
              "      <td>49.275002</td>\n",
              "      <td>48.982498</td>\n",
              "      <td>49.250000</td>\n",
              "      <td>48.239758</td>\n",
              "      <td>74106400</td>\n",
              "    </tr>\n",
              "  </tbody>\n",
              "</table>\n",
              "</div>"
            ],
            "text/plain": [
              "                 Open       High        Low      Close  Adj Close     Volume\n",
              "Date                                                                        \n",
              "2019-04-01  47.910000  47.919998  47.095001  47.810001  46.829304  111448000\n",
              "2019-04-02  47.772499  48.615002  47.762501  48.505001  47.510036   91062800\n",
              "2019-04-03  48.312500  49.125000  48.287498  48.837502  47.835732   93087200\n",
              "2019-04-04  48.697498  49.092499  48.285000  48.922501  47.918972   76457200\n",
              "2019-04-05  49.112499  49.275002  48.982498  49.250000  48.239758   74106400"
            ]
          },
          "metadata": {
            "tags": []
          },
          "execution_count": 3
        }
      ]
    },
    {
      "cell_type": "code",
      "metadata": {
        "colab": {
          "base_uri": "https://localhost:8080/"
        },
        "id": "aITrDu6GWfSL",
        "outputId": "4a1fc37a-1eb5-45a6-f726-8f7c96859025"
      },
      "source": [
        "df.info()"
      ],
      "execution_count": 4,
      "outputs": [
        {
          "output_type": "stream",
          "text": [
            "<class 'pandas.core.frame.DataFrame'>\n",
            "DatetimeIndex: 504 entries, 2019-04-01 to 2021-03-30\n",
            "Data columns (total 6 columns):\n",
            " #   Column     Non-Null Count  Dtype  \n",
            "---  ------     --------------  -----  \n",
            " 0   Open       504 non-null    float64\n",
            " 1   High       504 non-null    float64\n",
            " 2   Low        504 non-null    float64\n",
            " 3   Close      504 non-null    float64\n",
            " 4   Adj Close  504 non-null    float64\n",
            " 5   Volume     504 non-null    int64  \n",
            "dtypes: float64(5), int64(1)\n",
            "memory usage: 27.6 KB\n"
          ],
          "name": "stdout"
        }
      ]
    },
    {
      "cell_type": "code",
      "metadata": {
        "id": "nzwpoeViZNg4"
      },
      "source": [
        "del df['Adj Close']\n",
        "\n"
      ],
      "execution_count": 5,
      "outputs": []
    },
    {
      "cell_type": "code",
      "metadata": {
        "colab": {
          "base_uri": "https://localhost:8080/"
        },
        "id": "pEWVjHhza58h",
        "outputId": "8223f117-75d0-460f-bd85-b84873c659d8"
      },
      "source": [
        "training= df.iloc[:-31,:].copy()\n",
        "test= df.iloc[-31:,:].copy()\n",
        "\n",
        "test.info()"
      ],
      "execution_count": 6,
      "outputs": [
        {
          "output_type": "stream",
          "text": [
            "<class 'pandas.core.frame.DataFrame'>\n",
            "DatetimeIndex: 31 entries, 2021-02-16 to 2021-03-30\n",
            "Data columns (total 5 columns):\n",
            " #   Column  Non-Null Count  Dtype  \n",
            "---  ------  --------------  -----  \n",
            " 0   Open    31 non-null     float64\n",
            " 1   High    31 non-null     float64\n",
            " 2   Low     31 non-null     float64\n",
            " 3   Close   31 non-null     float64\n",
            " 4   Volume  31 non-null     int64  \n",
            "dtypes: float64(4), int64(1)\n",
            "memory usage: 1.5 KB\n"
          ],
          "name": "stdout"
        }
      ]
    },
    {
      "cell_type": "code",
      "metadata": {
        "colab": {
          "base_uri": "https://localhost:8080/"
        },
        "id": "PeqOhht2b7vR",
        "outputId": "8e0ff78c-e54f-4d39-fbc7-30864eac9ac9"
      },
      "source": [
        "scaler = MinMaxScaler()\n",
        "training = scaler.fit_transform(training)\n",
        "training[:10]"
      ],
      "execution_count": 7,
      "outputs": [
        {
          "output_type": "execute_result",
          "data": {
            "text/plain": [
              "array([[0.04060556, 0.03419142, 0.04582374, 0.04492413, 0.17302998],\n",
              "       [0.03922697, 0.04109932, 0.05257964, 0.05188561, 0.11958678],\n",
              "       [0.04464106, 0.04616838, 0.05789325, 0.05521611, 0.12489408],\n",
              "       [0.04850108, 0.04584534, 0.05786796, 0.05606751, 0.08129577],\n",
              "       [0.0526619 , 0.0476593 , 0.06492748, 0.05934791, 0.07513276],\n",
              "       [0.05258671, 0.05543683, 0.06596491, 0.06711074, 0.15226323],\n",
              "       [0.06236215, 0.06194714, 0.07327748, 0.06560824, 0.25593965],\n",
              "       [0.05825143, 0.05670412, 0.07062066, 0.06841286, 0.10836186],\n",
              "       [0.0636906 , 0.05735017, 0.07127856, 0.06423096, 0.1000302 ],\n",
              "       [0.05955483, 0.0552132 , 0.065636  , 0.06403063, 0.17196768]])"
            ]
          },
          "metadata": {
            "tags": []
          },
          "execution_count": 7
        }
      ]
    },
    {
      "cell_type": "code",
      "metadata": {
        "colab": {
          "base_uri": "https://localhost:8080/"
        },
        "id": "mdGLkqnGcbWU",
        "outputId": "aea43689-108b-4091-92bf-eea7913db1c6"
      },
      "source": [
        "X_train=[]\n",
        "y_train =[]\n",
        "\n",
        "for i in range(60, training.shape[0]):\n",
        "    X_train.append(training[i-60:i])\n",
        "    y_train.append(training[i, 0])\n",
        "\n",
        "X_train, y_train = np.array(X_train), np.array(y_train)\n",
        "\n",
        "X_train[:10]"
      ],
      "execution_count": 8,
      "outputs": [
        {
          "output_type": "execute_result",
          "data": {
            "text/plain": [
              "array([[[0.04060556, 0.03419142, 0.04582374, 0.04492413, 0.17302998],\n",
              "        [0.03922697, 0.04109932, 0.05257964, 0.05188561, 0.11958678],\n",
              "        [0.04464106, 0.04616838, 0.05789325, 0.05521611, 0.12489408],\n",
              "        ...,\n",
              "        [0.05855223, 0.05697746, 0.07054475, 0.06380527, 0.3821194 ],\n",
              "        [0.05790052, 0.05526291, 0.07059537, 0.06330445, 0.07192174],\n",
              "        [0.0576248 , 0.05302653, 0.06330809, 0.05576702, 0.10180769]],\n",
              "\n",
              "       [[0.03922697, 0.04109932, 0.05257964, 0.05188561, 0.11958678],\n",
              "        [0.04464106, 0.04616838, 0.05789325, 0.05521611, 0.12489408],\n",
              "        [0.04850108, 0.04584534, 0.05786796, 0.05606751, 0.08129577],\n",
              "        ...,\n",
              "        [0.05790052, 0.05526291, 0.07059537, 0.06330445, 0.07192174],\n",
              "        [0.0576248 , 0.05302653, 0.06330809, 0.05576702, 0.10180769],\n",
              "        [0.05597052, 0.05732534, 0.06852054, 0.06635949, 0.15421165]],\n",
              "\n",
              "       [[0.04464106, 0.04616838, 0.05789325, 0.05521611, 0.12489408],\n",
              "        [0.04850108, 0.04584534, 0.05786796, 0.05606751, 0.08129577],\n",
              "        [0.0526619 , 0.0476593 , 0.06492748, 0.05934791, 0.07513276],\n",
              "        ...,\n",
              "        [0.0576248 , 0.05302653, 0.06330809, 0.05576702, 0.10180769],\n",
              "        [0.05597052, 0.05732534, 0.06852054, 0.06635949, 0.15421165],\n",
              "        [0.06228692, 0.05876655, 0.07413781, 0.06620925, 0.10001867]],\n",
              "\n",
              "       ...,\n",
              "\n",
              "       [[0.05825143, 0.05670412, 0.07062066, 0.06841286, 0.10836186],\n",
              "        [0.0636906 , 0.05735017, 0.07127856, 0.06423096, 0.1000302 ],\n",
              "        [0.05955483, 0.0552132 , 0.065636  , 0.06403063, 0.17196768],\n",
              "        ...,\n",
              "        [0.06509424, 0.0626429 , 0.07866703, 0.07369658, 0.05844428],\n",
              "        [0.06978142, 0.06589803, 0.08203234, 0.07790354, 0.        ],\n",
              "        [0.06995689, 0.06748833, 0.08256368, 0.07745278, 0.06190803]],\n",
              "\n",
              "       [[0.0636906 , 0.05735017, 0.07127856, 0.06423096, 0.1000302 ],\n",
              "        [0.05955483, 0.0552132 , 0.065636  , 0.06403063, 0.17196768],\n",
              "        [0.0580008 , 0.05449262, 0.07019051, 0.06493212, 0.06475096],\n",
              "        ...,\n",
              "        [0.06978142, 0.06589803, 0.08203234, 0.07790354, 0.        ],\n",
              "        [0.06995689, 0.06748833, 0.08256368, 0.07745278, 0.06190803],\n",
              "        [0.06359032, 0.05834409, 0.07120265, 0.0669104 , 0.14656792]],\n",
              "\n",
              "       [[0.05955483, 0.0552132 , 0.065636  , 0.06403063, 0.17196768],\n",
              "        [0.0580008 , 0.05449262, 0.07019051, 0.06493212, 0.06475096],\n",
              "        [0.06020654, 0.05826955, 0.07158218, 0.06498221, 0.15032005],\n",
              "        ...,\n",
              "        [0.06995689, 0.06748833, 0.08256368, 0.07745278, 0.06190803],\n",
              "        [0.06359032, 0.05834409, 0.07120265, 0.0669104 , 0.14656792],\n",
              "        [0.05955483, 0.05861743, 0.07221476, 0.06996545, 0.09664511]]])"
            ]
          },
          "metadata": {
            "tags": []
          },
          "execution_count": 8
        }
      ]
    },
    {
      "cell_type": "code",
      "metadata": {
        "id": "Q1aittevds9r"
      },
      "source": [
        "from tensorflow.keras import Sequential\n",
        "from tensorflow.keras.layers import Dense,LSTM,Dropout\n"
      ],
      "execution_count": 17,
      "outputs": []
    },
    {
      "cell_type": "code",
      "metadata": {
        "id": "ndWqqzua0-Dx"
      },
      "source": [
        "\n",
        "model = Sequential()\n",
        "\n",
        "model.add(LSTM(units = 31, activation = 'relu', return_sequences = True, input_shape = (X_train.shape[1], 5)))\n",
        "model.add(Dropout(0.2))\n",
        "\n",
        "model.add(LSTM(units = 60, activation = 'relu', return_sequences = True))\n",
        "model.add(Dropout(0.2))\n",
        "\n",
        "model.add(LSTM(units = 80, activation = 'relu', return_sequences = True))\n",
        "model.add(Dropout(0.2))\n",
        "\n",
        "model.add(LSTM(units = 120, activation = 'relu'))\n",
        "model.add(Dropout(0.2))\n",
        "\n",
        "model.add(Dense(units = 1))"
      ],
      "execution_count": 29,
      "outputs": []
    },
    {
      "cell_type": "code",
      "metadata": {
        "id": "AywfWzMF2l3I"
      },
      "source": [
        "model.compile(optimizer='adam', loss='mean_squared_error')"
      ],
      "execution_count": 30,
      "outputs": []
    },
    {
      "cell_type": "code",
      "metadata": {
        "colab": {
          "base_uri": "https://localhost:8080/"
        },
        "id": "YVgZUvQz20jP",
        "outputId": "e0c0cb7e-84cd-4523-c4bc-106d0e7bceab"
      },
      "source": [
        "model.fit(X_train,y_train,epochs=5, batch_size=32)"
      ],
      "execution_count": 31,
      "outputs": [
        {
          "output_type": "stream",
          "text": [
            "Epoch 1/5\n",
            "13/13 [==============================] - 6s 134ms/step - loss: 0.2134\n",
            "Epoch 2/5\n",
            "13/13 [==============================] - 2s 136ms/step - loss: 0.0279\n",
            "Epoch 3/5\n",
            "13/13 [==============================] - 2s 139ms/step - loss: 0.0153\n",
            "Epoch 4/5\n",
            "13/13 [==============================] - 2s 135ms/step - loss: 0.0081\n",
            "Epoch 5/5\n",
            "13/13 [==============================] - 2s 132ms/step - loss: 0.0077\n"
          ],
          "name": "stdout"
        },
        {
          "output_type": "execute_result",
          "data": {
            "text/plain": [
              "<tensorflow.python.keras.callbacks.History at 0x7f8345d94190>"
            ]
          },
          "metadata": {
            "tags": []
          },
          "execution_count": 31
        }
      ]
    },
    {
      "cell_type": "code",
      "metadata": {
        "id": "PpVhYypc3Gp8"
      },
      "source": [
        "inputs= scaler.transform(df)"
      ],
      "execution_count": 35,
      "outputs": []
    },
    {
      "cell_type": "code",
      "metadata": {
        "colab": {
          "base_uri": "https://localhost:8080/"
        },
        "id": "i4ByNA3Z36dW",
        "outputId": "f2ad0da5-01e3-44f8-e7af-f00bc2db3a63"
      },
      "source": [
        "\n",
        "X_test = []\n",
        "y_test = []\n",
        "\n",
        "for i in range(31, inputs.shape[0]):\n",
        "    X_test.append(inputs[i-31:i])\n",
        "    y_test.append(inputs[i, 0])\n",
        "\n",
        "X_test, y_test = np.array(X_test), np.array(y_test)\n",
        "print(X_test.shape)\n"
      ],
      "execution_count": 36,
      "outputs": [
        {
          "output_type": "stream",
          "text": [
            "(473, 31, 5)\n"
          ],
          "name": "stdout"
        }
      ]
    },
    {
      "cell_type": "code",
      "metadata": {
        "id": "h5dwlvf53_LV"
      },
      "source": [
        "prediction= model.predict(X_test)"
      ],
      "execution_count": 37,
      "outputs": []
    },
    {
      "cell_type": "code",
      "metadata": {
        "id": "tgJpXqYC5OqY"
      },
      "source": [
        "rescale= 1/scaler.scale_[0]\n",
        "y_test= y_test* rescale\n",
        "prediction*= rescale"
      ],
      "execution_count": 41,
      "outputs": []
    },
    {
      "cell_type": "code",
      "metadata": {
        "colab": {
          "base_uri": "https://localhost:8080/",
          "height": 621
        },
        "id": "pMLPZ9Me4leB",
        "outputId": "ed974454-e00a-411d-97e0-1f59bd121ccf"
      },
      "source": [
        "plt.figure(figsize=(14,10))\n",
        "plt.plot(y_test,color='blue',label= 'Real Value')\n",
        "plt.plot(prediction,color='red',label='Predicted Value')\n",
        "plt.title('Apple Stock Price Prediction')\n",
        "plt.xlabel('DAte')\n",
        "plt.ylabel('Apple Stock Price')\n",
        "plt.legend()\n",
        "plt.show()"
      ],
      "execution_count": 47,
      "outputs": [
        {
          "output_type": "display_data",
          "data": {
            "image/png": "[encoded data removed]",
            "text/plain": [
              "<Figure size 1008x720 with 1 Axes>"
            ]
          },
          "metadata": {
            "tags": [],
            "needs_background": "light"
          }
        }
      ]
    },
    {
      "cell_type": "code",
      "metadata": {
        "colab": {
          "base_uri": "https://localhost:8080/"
        },
        "id": "DQY2V7Bv5Hd4",
        "outputId": "74c3563b-b55e-459d-8ded-5691f9672b76"
      },
      "source": [
        "for i in range(130,137):\n",
        "  print((y_test[i]-prediction[i])*100/y_test[i])"
      ],
      "execution_count": 51,
      "outputs": [
        {
          "output_type": "stream",
          "text": [
            "[6.7692733]\n",
            "[7.183118]\n",
            "[3.1189404]\n",
            "[-0.53564835]\n",
            "[-3.2355201]\n",
            "[-4.6351876]\n",
            "[-1.406285]\n"
          ],
          "name": "stdout"
        }
      ]
    },
    {
      "cell_type": "code",
      "metadata": {
        "id": "MDoB5qPJ7ryh"
      },
      "source": [
        ""
      ],
      "execution_count": null,
      "outputs": []
    }
  ]
}